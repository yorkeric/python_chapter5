{
 "cells": [
  {
   "cell_type": "markdown",
   "id": "43254662",
   "metadata": {},
   "source": [
    "# Chapter 5 Exercises\n",
    "\n",
    "## Algorithm Workbench\n",
    "### Question 1"
   ]
  },
  {
   "cell_type": "code",
   "execution_count": 2,
   "id": "a344f2de",
   "metadata": {},
   "outputs": [
    {
     "name": "stdout",
     "output_type": "stream",
     "text": [
      "10 x 10 = 100\n"
     ]
    }
   ],
   "source": [
    "# Write a function that accepts an argument and displays the argument multiplied by 10\n",
    "# delclar a function named times_ten and add print statment to display result\n",
    "# call function to display the result\n",
    "# 10 x 10 = 100\n",
    "def times_ten(num):\n",
    "    print(str(num) + \" x 10 =\", (num * 10))\n",
    "times_ten(10)"
   ]
  },
  {
   "cell_type": "markdown",
   "id": "a7b663a3",
   "metadata": {},
   "source": [
    "### Question 6"
   ]
  },
  {
   "cell_type": "code",
   "execution_count": 3,
   "id": "596735ad",
   "metadata": {},
   "outputs": [
    {
     "name": "stdout",
     "output_type": "stream",
     "text": [
      "58\n"
     ]
    }
   ],
   "source": [
    "# Write a statement that generates a randome number between 1 and 100\n",
    "# Assign to variable named rand\n",
    "# Print the value of rand\n",
    "import random\n",
    "rand = random.randint(1, 100)\n",
    "print(rand)"
   ]
  },
  {
   "cell_type": "markdown",
   "id": "2a4d34da",
   "metadata": {},
   "source": [
    "## Programming Exercises\n",
    "### Question 1 - Kilometer Converter"
   ]
  },
  {
   "cell_type": "code",
   "execution_count": 5,
   "id": "3bb36f19",
   "metadata": {},
   "outputs": [
    {
     "name": "stdout",
     "output_type": "stream",
     "text": [
      "Enter distance in kilometers: 100\n",
      "Total miles: 62.13999999999999\n"
     ]
    }
   ],
   "source": [
    "# Write program that accepts distance (in kilometers)\n",
    "# Converts from kilometers to miles\n",
    "# Prompt for the distance in kilometers \n",
    "# Write function that accepts the input of kilometers and returns the miles \n",
    "# Call function to convert to miles\n",
    "# Print the total miles\n",
    "def convert_to_miles(kilometers):\n",
    "    return kilometers * .6214\n",
    "kilometers = int(input(\"Enter distance in kilometers: \"))\n",
    "miles = convert_to_miles(kilometers)\n",
    "print(\"Total miles:\", miles)"
   ]
  },
  {
   "cell_type": "markdown",
   "id": "b982044f",
   "metadata": {},
   "source": [
    "### Question 7 - Stadium Seating"
   ]
  },
  {
   "cell_type": "code",
   "execution_count": 7,
   "id": "d624ce26",
   "metadata": {},
   "outputs": [
    {
     "name": "stdout",
     "output_type": "stream",
     "text": [
      "Class A tickets sold: 48\n",
      "Class B tickets sold: 34\n",
      "Class C tickets sold: 18\n",
      "Total income in ticket sales: 1650\n"
     ]
    }
   ],
   "source": [
    "# Write a program that calcuates the income generated from ticket sales\n",
    "# Prompt for the number of tickets sold for Class A, Class B, and Class C\n",
    "# Write a function for each ticket class that will prompt for tickets sold and return the total amount\n",
    "# Calculate total by adding each total amount per class\n",
    "# Print will call each function, add the total amount per class, and display a message with the total\n",
    "def get_class_a_total_sales():\n",
    "    return int(input(\"Class A tickets sold: \")) * 20\n",
    "def get_class_b_total_sales():\n",
    "    return int(input(\"Class B tickets sold: \")) * 15\n",
    "def get_class_c_total_sales():\n",
    "    return int(input(\"Class C tickets sold: \")) * 10\n",
    "print(\"Total income in ticket sales:\", get_class_a_total_sales() + get_class_b_total_sales() + get_class_c_total_sales())"
   ]
  },
  {
   "cell_type": "markdown",
   "id": "277038dd",
   "metadata": {},
   "source": [
    "### Question 17 - Prime Numbers"
   ]
  },
  {
   "cell_type": "code",
   "execution_count": 11,
   "id": "de7a22fd",
   "metadata": {},
   "outputs": [
    {
     "name": "stdout",
     "output_type": "stream",
     "text": [
      "Enter number to check if prime: 11\n",
      "The number is prime\n"
     ]
    }
   ],
   "source": [
    "# Calculate if input number is prime or not prime\n",
    "# Prime numbers are only evenly divisible by itself and 0\n",
    "# Loop through the range starting at 2 and for each number in the range check if divisble by that number\n",
    "# If any of the numbers in that range are divisible by that number, then stop checking as the number is prime\n",
    "# Print a statment if the number is prime or not\n",
    "# Check if number is 1 and return is not prime\n",
    "def is_prime(num):\n",
    "    if(num == 1):\n",
    "        return False\n",
    "    else:\n",
    "        for i in range(2, num):\n",
    "             if(num % i) == 0:\n",
    "                return False\n",
    "    return True\n",
    "input_number = int(input(\"Enter number to check if prime: \"))\n",
    "if(is_prime(input_number)):\n",
    "    print(\"The number is prime\")\n",
    "else: \n",
    "    print(\"The number is not prime\")"
   ]
  },
  {
   "cell_type": "markdown",
   "id": "16d709b2",
   "metadata": {},
   "source": [
    "### Question 18 - Prime Number List"
   ]
  },
  {
   "cell_type": "code",
   "execution_count": 12,
   "id": "a5679448",
   "metadata": {},
   "outputs": [
    {
     "name": "stdout",
     "output_type": "stream",
     "text": [
      "All the numbers from 1 to 100 that are prime:\n",
      "2\n",
      "3\n",
      "5\n",
      "7\n",
      "11\n",
      "13\n",
      "17\n",
      "19\n",
      "23\n",
      "29\n",
      "31\n",
      "37\n",
      "41\n",
      "43\n",
      "47\n",
      "53\n",
      "59\n",
      "61\n",
      "67\n",
      "71\n",
      "73\n",
      "79\n",
      "83\n",
      "89\n",
      "97\n"
     ]
    }
   ],
   "source": [
    "# Using the is_prime function, print out all the prime numbers from 1 to 100\n",
    "# Loop over the range, check the function, and print the number if is prime \n",
    "def is_prime(num):\n",
    "    if(num == 1):\n",
    "        return False\n",
    "    else:\n",
    "        for i in range(2, num):\n",
    "             if(num % i) == 0:\n",
    "                return False\n",
    "    return True\n",
    "print(\"All the numbers from 1 to 100 that are prime:\")\n",
    "for i in range(1, 101):\n",
    "    if(is_prime(i)):\n",
    "        print(i)"
   ]
  },
  {
   "cell_type": "code",
   "execution_count": null,
   "id": "bc8f62a1",
   "metadata": {},
   "outputs": [],
   "source": []
  }
 ],
 "metadata": {
  "kernelspec": {
   "display_name": "Python 3 (ipykernel)",
   "language": "python",
   "name": "python3"
  },
  "language_info": {
   "codemirror_mode": {
    "name": "ipython",
    "version": 3
   },
   "file_extension": ".py",
   "mimetype": "text/x-python",
   "name": "python",
   "nbconvert_exporter": "python",
   "pygments_lexer": "ipython3",
   "version": "3.10.9"
  }
 },
 "nbformat": 4,
 "nbformat_minor": 5
}
